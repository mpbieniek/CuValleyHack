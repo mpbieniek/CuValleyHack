{
 "cells": [
  {
   "cell_type": "code",
   "execution_count": 10,
   "metadata": {},
   "outputs": [],
   "source": [
    "import pandas as pd\n",
    "from glob import glob\n",
    "import os"
   ]
  },
  {
   "cell_type": "code",
   "execution_count": 30,
   "metadata": {},
   "outputs": [],
   "source": [
    "data_dirs = glob(\"../../../zadanie2_7z/hmg/*/\")"
   ]
  },
  {
   "cell_type": "code",
   "execution_count": 88,
   "metadata": {},
   "outputs": [],
   "source": [
    "# merging\n",
    "for dirr in data_dirs:\n",
    "    files = sorted(glob(dirr + \"*.csv\"))\n",
    "    data = []\n",
    "    filename_chk = files[0].split(' ')[0] + '.csv'\n",
    "    stop = len(files) - 1\n",
    "    for i, file in enumerate(files):\n",
    "        filename = file.split(' ')[0] + '.csv'\n",
    "        df = pd.read_csv(file)\n",
    "        if 'manipulowane' in file or 'zaklocane' in file:\n",
    "            df = df.drop(columns = [\"Unnamed: 5\"])\n",
    "        if filename == filename_chk:\n",
    "            data.append(df)\n",
    "            if i == stop:\n",
    "                output = pd.concat(data, axis=0, ignore_index=True)\n",
    "                output.to_csv(os.path.join('../../../zadanie2_7z/hmg/merged/', filename_chk.split('/')[-1]))\n",
    "        else:\n",
    "            output = pd.concat(data, axis=0, ignore_index=True)\n",
    "            output.to_csv(os.path.join('../../../zadanie2_7z/hmg/merged/', filename_chk.split('/')[-1]))\n",
    "            data = []\n",
    "            data.append(df)\n",
    "        filename_chk = filename"
   ]
  },
  {
   "cell_type": "code",
   "execution_count": 92,
   "metadata": {},
   "outputs": [],
   "source": [
    "# joining\n",
    "types = ['manipulowane', 'straty', 'zaklocajace', 'zaklocane']\n",
    "files = sorted(glob(\"../../../zadanie2_7z/hmg/merged/*.csv\"))\n",
    "files = [x for x in files if types[0] in x]\n",
    "for file in files:\n",
    "    manipulowane = pd.read_csv(file)\n",
    "    straty = pd.read_csv(file.replace('manipulowane', types[1]))\n",
    "    zaklocajace = pd.read_csv(file.replace('manipulowane', types[2]))\n",
    "    zaklocane = pd.read_csv(file.replace('manipulowane', types[3]))\n",
    "    data = pd.concat([manipulowane, straty, zaklocajace, zaklocane], axis = 1)\n",
    "    data = data.drop(columns = ['Czas', 'czas', 'Unnamed: 0'])\n",
    "    #data = data.drop(data.columns[[0]], axis=1)\n",
    "    data.to_csv(file.replace('manipulowane', 'data').replace('merged', 'joined'))"
   ]
  },
  {
   "cell_type": "code",
   "execution_count": null,
   "metadata": {},
   "outputs": [],
   "source": []
  }
 ],
 "metadata": {
  "kernelspec": {
   "display_name": "Python 3",
   "language": "python",
   "name": "python3"
  },
  "language_info": {
   "codemirror_mode": {
    "name": "ipython",
    "version": 3
   },
   "file_extension": ".py",
   "mimetype": "text/x-python",
   "name": "python",
   "nbconvert_exporter": "python",
   "pygments_lexer": "ipython3",
   "version": "3.8.6"
  }
 },
 "nbformat": 4,
 "nbformat_minor": 4
}
