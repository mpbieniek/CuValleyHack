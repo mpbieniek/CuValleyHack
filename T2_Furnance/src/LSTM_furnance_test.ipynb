{
 "cells": [
  {
   "cell_type": "code",
   "execution_count": 79,
   "metadata": {},
   "outputs": [],
   "source": [
    "import numpy as np\n",
    "import pandas as pd\n",
    "from keras.models import Sequential\n",
    "from keras.layers import LSTM, Dense\n",
    "from sklearn.metrics import mean_squared_error as MSE"
   ]
  },
  {
   "cell_type": "code",
   "execution_count": 2,
   "metadata": {},
   "outputs": [],
   "source": [
    "manipulowane = pd.read_csv(\"~/cuvalley/zadanie2_7z/hmg/2021-04-19/manipulowane_2021-04-19 00.csv\")\n",
    "manipulowane = manipulowane.drop(columns = [\"Unnamed: 5\"])\n",
    "\n",
    "straty = pd.read_csv(\"~/cuvalley/zadanie2_7z/hmg/2021-04-19/straty_2021-04-19 00.csv\")\n",
    "\n",
    "zaklocajace = pd.read_csv(\"~/cuvalley/zadanie2_7z/hmg/2021-04-19/zaklocajace_2021-04-19 00.csv\")\n",
    "\n",
    "zaklocane = pd.read_csv(\"~/cuvalley/zadanie2_7z/hmg/2021-04-19/zaklocane_2021-04-19 00.csv\")\n",
    "zaklocane = zaklocane.drop(columns = [\"Unnamed: 5\"])"
   ]
  },
  {
   "cell_type": "code",
   "execution_count": 47,
   "metadata": {},
   "outputs": [],
   "source": [
    "dane = pd.concat([manipulowane, straty, zaklocajace, zaklocane], axis=1)\n",
    "dane = dane.drop(columns = ['Czas', 'czas'])"
   ]
  },
  {
   "cell_type": "code",
   "execution_count": 61,
   "metadata": {},
   "outputs": [],
   "source": [
    "def split_seq(data_x, data_y, steps):\n",
    "    x, y = list(), list()\n",
    "    for i in range(len(data_x) - steps):\n",
    "        end = i + steps\n",
    "        seq_x = data_x[i:end, :]\n",
    "        seq_y = data_y[end, :]\n",
    "        x.append(seq_x)\n",
    "        y.append(seq_y)\n",
    "    return np.array(x), np.array(y)"
   ]
  },
  {
   "cell_type": "code",
   "execution_count": 51,
   "metadata": {},
   "outputs": [],
   "source": [
    "dane_y = dane.drop(columns=['001FCx00285_SPPV.PV', '001XXXCALC01.NUM.PV[3]', '001SCx00274_SPPV.PV', '001FCx00241_sppv.pv']).to_numpy()\n",
    "\n",
    "dane_x = dane.to_numpy()"
   ]
  },
  {
   "cell_type": "code",
   "execution_count": 71,
   "metadata": {},
   "outputs": [],
   "source": [
    "n_steps = 3\n",
    "x, y = split_seq(dane_x, dane_y, steps = n_steps)\n",
    "x_features = x.shape[2]\n",
    "y_features = y.shape[1]"
   ]
  },
  {
   "cell_type": "code",
   "execution_count": 72,
   "metadata": {},
   "outputs": [],
   "source": [
    "model = Sequential()\n",
    "model.add(LSTM(100, activation='relu', return_sequences=True, input_shape=(n_steps, x_features)))\n",
    "model.add(LSTM(100, activation='relu'))\n",
    "model.add(Dense(y_features))\n",
    "model.compile(optimizer='adam', loss='mse')"
   ]
  },
  {
   "cell_type": "code",
   "execution_count": 73,
   "metadata": {
    "collapsed": true,
    "jupyter": {
     "outputs_hidden": true
    }
   },
   "outputs": [
    {
     "name": "stdout",
     "output_type": "stream",
     "text": [
      "Epoch 1/100\n",
      "900/900 - 11s - loss: 1890561.3750\n",
      "Epoch 2/100\n",
      "900/900 - 5s - loss: 3165.3435\n",
      "Epoch 3/100\n",
      "900/900 - 5s - loss: 3028.3792\n",
      "Epoch 4/100\n",
      "900/900 - 5s - loss: 2834.9731\n",
      "Epoch 5/100\n",
      "900/900 - 5s - loss: 2550.1038\n",
      "Epoch 6/100\n",
      "900/900 - 5s - loss: 2221.0110\n",
      "Epoch 7/100\n",
      "900/900 - 5s - loss: 2083.0183\n",
      "Epoch 8/100\n",
      "900/900 - 5s - loss: 1856.6057\n",
      "Epoch 9/100\n",
      "900/900 - 5s - loss: 1551.5551\n",
      "Epoch 10/100\n",
      "900/900 - 5s - loss: 42455.1836\n",
      "Epoch 11/100\n",
      "900/900 - 5s - loss: 2510.8706\n",
      "Epoch 12/100\n",
      "900/900 - 5s - loss: 2077.2051\n",
      "Epoch 13/100\n",
      "900/900 - 5s - loss: 1961.0767\n",
      "Epoch 14/100\n",
      "900/900 - 5s - loss: 1898.7550\n",
      "Epoch 15/100\n",
      "900/900 - 5s - loss: 1801.2732\n",
      "Epoch 16/100\n",
      "900/900 - 5s - loss: 1647.4059\n",
      "Epoch 17/100\n",
      "900/900 - 5s - loss: 1354.5875\n",
      "Epoch 18/100\n",
      "900/900 - 5s - loss: 1027.3419\n",
      "Epoch 19/100\n",
      "900/900 - 5s - loss: 890.9868\n",
      "Epoch 20/100\n",
      "900/900 - 5s - loss: 836.1703\n",
      "Epoch 21/100\n",
      "900/900 - 6s - loss: 827.6229\n",
      "Epoch 22/100\n",
      "900/900 - 5s - loss: 791.7903\n",
      "Epoch 23/100\n",
      "900/900 - 5s - loss: 765.2751\n",
      "Epoch 24/100\n",
      "900/900 - 5s - loss: 777.2331\n",
      "Epoch 25/100\n",
      "900/900 - 5s - loss: 702.3094\n",
      "Epoch 26/100\n",
      "900/900 - 5s - loss: 659.4424\n",
      "Epoch 27/100\n",
      "900/900 - 5s - loss: 594.2609\n",
      "Epoch 28/100\n",
      "900/900 - 5s - loss: 109475.5625\n",
      "Epoch 29/100\n",
      "900/900 - 5s - loss: 1739.4929\n",
      "Epoch 30/100\n",
      "900/900 - 5s - loss: 1663.1613\n",
      "Epoch 31/100\n",
      "900/900 - 5s - loss: 1552.8721\n",
      "Epoch 32/100\n",
      "900/900 - 5s - loss: 1317.1899\n",
      "Epoch 33/100\n",
      "900/900 - 5s - loss: 988.3148\n",
      "Epoch 34/100\n",
      "900/900 - 5s - loss: 831.4756\n",
      "Epoch 35/100\n",
      "900/900 - 5s - loss: 796.8918\n",
      "Epoch 36/100\n",
      "900/900 - 5s - loss: 775.9526\n",
      "Epoch 37/100\n",
      "900/900 - 5s - loss: 768.7429\n",
      "Epoch 38/100\n",
      "900/900 - 5s - loss: 749.4531\n",
      "Epoch 39/100\n",
      "900/900 - 5s - loss: 733.8027\n",
      "Epoch 40/100\n",
      "900/900 - 5s - loss: 697.2155\n",
      "Epoch 41/100\n",
      "900/900 - 5s - loss: 675.9889\n",
      "Epoch 42/100\n",
      "900/900 - 5s - loss: 640.2211\n",
      "Epoch 43/100\n",
      "900/900 - 5s - loss: 558.9804\n",
      "Epoch 44/100\n",
      "900/900 - 5s - loss: 481.1745\n",
      "Epoch 45/100\n",
      "900/900 - 5s - loss: 403.4002\n",
      "Epoch 46/100\n",
      "900/900 - 5s - loss: 317.0701\n",
      "Epoch 47/100\n",
      "900/900 - 5s - loss: 268.8662\n",
      "Epoch 48/100\n",
      "900/900 - 5s - loss: 275.4712\n",
      "Epoch 49/100\n",
      "900/900 - 5s - loss: 257.9902\n",
      "Epoch 50/100\n",
      "900/900 - 5s - loss: 267.4380\n",
      "Epoch 51/100\n",
      "900/900 - 5s - loss: 257.8923\n",
      "Epoch 52/100\n",
      "900/900 - 5s - loss: 255.6214\n",
      "Epoch 53/100\n",
      "900/900 - 5s - loss: 257.8251\n",
      "Epoch 54/100\n",
      "900/900 - 5s - loss: 261.6345\n",
      "Epoch 55/100\n",
      "900/900 - 5s - loss: 250.2366\n",
      "Epoch 56/100\n",
      "900/900 - 5s - loss: 274.9629\n",
      "Epoch 57/100\n",
      "900/900 - 5s - loss: 559.7979\n",
      "Epoch 58/100\n",
      "900/900 - 5s - loss: 568.4056\n",
      "Epoch 59/100\n",
      "900/900 - 5s - loss: 266.8691\n",
      "Epoch 60/100\n",
      "900/900 - 5s - loss: 245.5944\n",
      "Epoch 61/100\n",
      "900/900 - 5s - loss: 224.3509\n",
      "Epoch 62/100\n",
      "900/900 - 5s - loss: 238.2213\n",
      "Epoch 63/100\n",
      "900/900 - 5s - loss: 239.3873\n",
      "Epoch 64/100\n",
      "900/900 - 5s - loss: 235.8968\n",
      "Epoch 65/100\n",
      "900/900 - 5s - loss: 226.3495\n",
      "Epoch 66/100\n",
      "900/900 - 5s - loss: 245.5489\n",
      "Epoch 67/100\n",
      "900/900 - 5s - loss: 224.4031\n",
      "Epoch 68/100\n",
      "900/900 - 6s - loss: 221.5280\n",
      "Epoch 69/100\n",
      "900/900 - 5s - loss: 230.4925\n",
      "Epoch 70/100\n",
      "900/900 - 5s - loss: 218.8398\n",
      "Epoch 71/100\n",
      "900/900 - 5s - loss: 241.6522\n",
      "Epoch 72/100\n",
      "900/900 - 5s - loss: 216.3737\n",
      "Epoch 73/100\n",
      "900/900 - 5s - loss: 227.9563\n",
      "Epoch 74/100\n",
      "900/900 - 5s - loss: 233.1569\n",
      "Epoch 75/100\n",
      "900/900 - 5s - loss: 222.3156\n",
      "Epoch 76/100\n",
      "900/900 - 5s - loss: 221.7632\n",
      "Epoch 77/100\n",
      "900/900 - 5s - loss: 218.4726\n",
      "Epoch 78/100\n",
      "900/900 - 5s - loss: 215.7963\n",
      "Epoch 79/100\n",
      "900/900 - 5s - loss: 216.2288\n",
      "Epoch 80/100\n",
      "900/900 - 5s - loss: 210.2236\n",
      "Epoch 81/100\n",
      "900/900 - 5s - loss: 208.9185\n",
      "Epoch 82/100\n",
      "900/900 - 5s - loss: 211.1304\n",
      "Epoch 83/100\n",
      "900/900 - 5s - loss: 207.6927\n",
      "Epoch 84/100\n",
      "900/900 - 5s - loss: 214.1081\n",
      "Epoch 85/100\n",
      "900/900 - 5s - loss: 203.2312\n",
      "Epoch 86/100\n",
      "900/900 - 5s - loss: 202.2290\n",
      "Epoch 87/100\n",
      "900/900 - 5s - loss: 208.0323\n",
      "Epoch 88/100\n",
      "900/900 - 5s - loss: 192.7266\n",
      "Epoch 89/100\n",
      "900/900 - 5s - loss: 214.1098\n",
      "Epoch 90/100\n",
      "900/900 - 5s - loss: 193.1599\n",
      "Epoch 91/100\n",
      "900/900 - 5s - loss: 201.6927\n",
      "Epoch 92/100\n",
      "900/900 - 5s - loss: 196.8254\n",
      "Epoch 93/100\n",
      "900/900 - 5s - loss: 201.5646\n",
      "Epoch 94/100\n",
      "900/900 - 5s - loss: 187.3431\n",
      "Epoch 95/100\n",
      "900/900 - 5s - loss: 202.3735\n",
      "Epoch 96/100\n",
      "900/900 - 5s - loss: 189.5648\n",
      "Epoch 97/100\n",
      "900/900 - 5s - loss: 186.9707\n",
      "Epoch 98/100\n",
      "900/900 - 5s - loss: 196.3644\n",
      "Epoch 99/100\n",
      "900/900 - 5s - loss: 184.6683\n",
      "Epoch 100/100\n",
      "900/900 - 5s - loss: 178.3635\n"
     ]
    },
    {
     "data": {
      "text/plain": [
       "<keras.callbacks.History at 0x7f80e45e45e0>"
      ]
     },
     "execution_count": 73,
     "metadata": {},
     "output_type": "execute_result"
    }
   ],
   "source": [
    "model.fit(x, y, epochs = 100, verbose = 2)"
   ]
  },
  {
   "cell_type": "code",
   "execution_count": 74,
   "metadata": {},
   "outputs": [],
   "source": [
    "manipulowane = pd.read_csv(\"~/cuvalley/zadanie2_7z/hmg/2021-04-19/manipulowane_2021-04-19 08.csv\")\n",
    "manipulowane = manipulowane.drop(columns = [\"Unnamed: 5\"])\n",
    "\n",
    "straty1 = pd.read_csv(\"~/cuvalley/zadanie2_7z/hmg/2021-04-19/straty_2021-04-19 08.csv\")\n",
    "\n",
    "zaklocajace = pd.read_csv(\"~/cuvalley/zadanie2_7z/hmg/2021-04-19/zaklocajace_2021-04-19 08.csv\")\n",
    "\n",
    "zaklocane = pd.read_csv(\"~/cuvalley/zadanie2_7z/hmg/2021-04-19/zaklocane_2021-04-19 08.csv\")\n",
    "zaklocane = zaklocane.drop(columns = [\"Unnamed: 5\"])\n",
    "dane = pd.concat([manipulowane, straty, zaklocajace, zaklocane], axis=1)\n",
    "dane = dane.drop(columns = ['Czas', 'czas'])"
   ]
  },
  {
   "cell_type": "code",
   "execution_count": 75,
   "metadata": {},
   "outputs": [],
   "source": [
    "dane_y = dane.drop(columns=['001FCx00285_SPPV.PV', '001XXXCALC01.NUM.PV[3]', '001SCx00274_SPPV.PV', '001FCx00241_sppv.pv']).to_numpy()\n",
    "\n",
    "dane_x = dane.to_numpy()"
   ]
  },
  {
   "cell_type": "code",
   "execution_count": 76,
   "metadata": {},
   "outputs": [],
   "source": [
    "input_x, input_y = split_seq(dane_x, dane_y, steps = n_steps)"
   ]
  },
  {
   "cell_type": "code",
   "execution_count": 77,
   "metadata": {},
   "outputs": [],
   "source": [
    "y_pred = model.predict(input_x, verbose=0)"
   ]
  },
  {
   "cell_type": "code",
   "execution_count": null,
   "metadata": {},
   "outputs": [],
   "source": []
  },
  {
   "cell_type": "code",
   "execution_count": 80,
   "metadata": {},
   "outputs": [
    {
     "data": {
      "text/plain": [
       "3626.4536384230046"
      ]
     },
     "execution_count": 80,
     "metadata": {},
     "output_type": "execute_result"
    }
   ],
   "source": [
    "MSE(input_y, y_pred)"
   ]
  },
  {
   "cell_type": "code",
   "execution_count": 82,
   "metadata": {},
   "outputs": [
    {
     "data": {
      "text/plain": [
       "array([2.33180008e+01, 8.70855033e-01, 1.51373994e+00, 7.21114254e+00,\n",
       "       7.29695272e+00, 6.44669533e+00, 1.14000000e+02, 1.00000000e+01,\n",
       "       3.00000000e+00, 3.49889832e+02, 3.12519609e+04, 9.90577539e+03,\n",
       "       2.99000000e+02, 8.68000031e+00, 1.12200003e+01, 2.27999997e+00,\n",
       "       6.30000000e+01, 1.37000000e+03, 1.36572247e+01, 9.36909103e+00,\n",
       "       1.31000000e+03, 2.46942893e-01])"
      ]
     },
     "execution_count": 82,
     "metadata": {},
     "output_type": "execute_result"
    }
   ],
   "source": [
    "input_y[1]"
   ]
  },
  {
   "cell_type": "code",
   "execution_count": 83,
   "metadata": {},
   "outputs": [
    {
     "data": {
      "text/plain": [
       "array([ 2.1546745e+01,  7.4828500e-01, -6.0043967e-01,  3.5830178e+00,\n",
       "        5.5966163e+00,  1.3751291e+01,  1.1395613e+02,  1.1289093e+01,\n",
       "        9.4705683e-01,  3.4296664e+02,  3.1261605e+04,  9.8865430e+03,\n",
       "        2.9139093e+02,  1.1230208e+01,  8.0696602e+00,  6.9680538e+00,\n",
       "        6.8245575e+01,  1.3641378e+03,  9.3218222e+00,  8.8075914e+00,\n",
       "        1.2924592e+03,  4.1678696e+00], dtype=float32)"
      ]
     },
     "execution_count": 83,
     "metadata": {},
     "output_type": "execute_result"
    }
   ],
   "source": [
    "y_pred[1]"
   ]
  },
  {
   "cell_type": "code",
   "execution_count": null,
   "metadata": {},
   "outputs": [],
   "source": []
  }
 ],
 "metadata": {
  "kernelspec": {
   "display_name": "Python 3",
   "language": "python",
   "name": "python3"
  },
  "language_info": {
   "codemirror_mode": {
    "name": "ipython",
    "version": 3
   },
   "file_extension": ".py",
   "mimetype": "text/x-python",
   "name": "python",
   "nbconvert_exporter": "python",
   "pygments_lexer": "ipython3",
   "version": "3.8.6"
  }
 },
 "nbformat": 4,
 "nbformat_minor": 4
}
